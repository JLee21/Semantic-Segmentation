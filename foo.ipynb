{
 "cells": [
  {
   "cell_type": "code",
   "execution_count": 1,
   "metadata": {
    "collapsed": true,
    "scrolled": true
   },
   "outputs": [],
   "source": [
    "import os, sys\n",
    "from glob import glob\n",
    "from matplotlib import pyplot as plt\n",
    "%matplotlib inline\n",
    "import numpy as np\n",
    "# So we can see the output of multiple variables in a single cell\n",
    "from IPython.core.interactiveshell import InteractiveShell\n",
    "InteractiveShell.ast_node_interactivity = \"all\"\n",
    "\n",
    "import tensorflow as tf\n",
    "tf.__version__\n",
    "\n",
    "from IPython.display import clear_output, Image, display, HTML\n"
   ]
  },
  {
   "cell_type": "code",
   "execution_count": 2,
   "metadata": {},
   "outputs": [
    {
     "data": {
      "text/plain": [
       "'darwin'"
      ]
     },
     "execution_count": 2,
     "metadata": {},
     "output_type": "execute_result"
    }
   ],
   "source": [
    "sys.platform"
   ]
  },
  {
   "cell_type": "code",
   "execution_count": 3,
   "metadata": {},
   "outputs": [
    {
     "data": {
      "text/plain": [
       "['um_road_000087.png',\n",
       " 'um_road_000093.png',\n",
       " 'um_road_000044.png',\n",
       " 'um_road_000050.png',\n",
       " 'um_road_000078.png',\n",
       " 'uu_road_000073.png',\n",
       " 'uu_road_000067.png',\n",
       " 'umm_road_000007.png',\n",
       " 'um_lane_000059.png',\n",
       " 'umm_road_000013.png',\n",
       " 'um_lane_000071.png',\n",
       " 'um_lane_000065.png',\n",
       " 'um_lane_000064.png',\n",
       " 'um_lane_000070.png',\n",
       " 'um_lane_000058.png',\n",
       " 'umm_road_000012.png',\n",
       " 'umm_road_000006.png',\n",
       " 'uu_road_000066.png',\n",
       " 'uu_road_000072.png',\n",
       " 'um_road_000079.png',\n",
       " 'um_road_000051.png',\n",
       " 'um_road_000045.png',\n",
       " 'um_road_000092.png',\n",
       " 'um_road_000086.png',\n",
       " 'um_road_000090.png',\n",
       " 'um_road_000084.png',\n",
       " 'um_road_000053.png',\n",
       " 'um_road_000047.png',\n",
       " 'uu_road_000058.png',\n",
       " 'uu_road_000064.png',\n",
       " 'uu_road_000070.png',\n",
       " 'umm_road_000010.png',\n",
       " 'umm_road_000004.png',\n",
       " 'um_lane_000066.png',\n",
       " 'um_lane_000072.png',\n",
       " 'umm_road_000038.png',\n",
       " 'um_lane_000073.png',\n",
       " 'umm_road_000039.png',\n",
       " 'um_lane_000067.png',\n",
       " 'umm_road_000005.png',\n",
       " 'umm_road_000011.png',\n",
       " 'uu_road_000071.png',\n",
       " 'uu_road_000065.png',\n",
       " 'uu_road_000059.png',\n",
       " 'um_road_000046.png',\n",
       " 'um_road_000052.png',\n",
       " 'um_road_000085.png',\n",
       " 'um_road_000091.png',\n",
       " 'um_road_000081.png',\n",
       " 'um_road_000056.png',\n",
       " 'um_road_000042.png',\n",
       " 'uu_road_000061.png',\n",
       " 'uu_road_000075.png',\n",
       " 'uu_road_000049.png',\n",
       " 'um_lane_000088.png',\n",
       " 'um_lane_000063.png',\n",
       " 'umm_road_000029.png',\n",
       " 'um_lane_000077.png',\n",
       " 'umm_road_000015.png',\n",
       " 'umm_road_000001.png',\n",
       " 'umm_road_000000.png',\n",
       " 'umm_road_000014.png',\n",
       " 'um_lane_000076.png',\n",
       " 'um_lane_000062.png',\n",
       " 'umm_road_000028.png',\n",
       " 'um_lane_000089.png',\n",
       " 'uu_road_000048.png',\n",
       " 'uu_road_000074.png',\n",
       " 'uu_road_000060.png',\n",
       " 'um_road_000043.png',\n",
       " 'um_road_000057.png',\n",
       " 'um_road_000080.png',\n",
       " 'um_road_000094.png',\n",
       " 'um_road_000082.png',\n",
       " 'um_road_000069.png',\n",
       " 'um_road_000041.png',\n",
       " 'um_road_000055.png',\n",
       " 'uu_road_000076.png',\n",
       " 'uu_road_000062.png',\n",
       " 'uu_road_000089.png',\n",
       " 'um_lane_000074.png',\n",
       " 'um_lane_000060.png',\n",
       " 'um_lane_000048.png',\n",
       " 'umm_road_000002.png',\n",
       " 'umm_road_000016.png',\n",
       " 'umm_road_000017.png',\n",
       " 'um_lane_000049.png',\n",
       " 'umm_road_000003.png',\n",
       " 'um_lane_000061.png',\n",
       " 'um_lane_000075.png',\n",
       " 'uu_road_000088.png',\n",
       " 'uu_road_000063.png',\n",
       " 'uu_road_000077.png',\n",
       " 'um_road_000054.png',\n",
       " 'um_road_000040.png',\n",
       " 'um_road_000068.png',\n",
       " 'um_road_000083.png',\n",
       " 'um_road_000027.png',\n",
       " 'um_road_000033.png',\n",
       " 'uu_road_000038.png',\n",
       " 'uu_road_000010.png',\n",
       " 'uu_road_000004.png',\n",
       " 'umm_road_000064.png',\n",
       " 'umm_road_000070.png',\n",
       " 'um_lane_000012.png',\n",
       " 'umm_road_000058.png',\n",
       " 'um_lane_000006.png',\n",
       " 'um_lane_000007.png',\n",
       " 'um_lane_000013.png',\n",
       " 'umm_road_000059.png',\n",
       " 'umm_road_000071.png',\n",
       " 'umm_road_000065.png',\n",
       " 'uu_road_000005.png',\n",
       " 'uu_road_000011.png',\n",
       " 'uu_road_000039.png',\n",
       " 'um_road_000032.png',\n",
       " 'um_road_000026.png',\n",
       " 'um_road_000030.png',\n",
       " 'um_road_000024.png',\n",
       " 'um_road_000018.png',\n",
       " 'uu_road_000007.png',\n",
       " 'uu_road_000013.png',\n",
       " 'um_lane_000039.png',\n",
       " 'umm_road_000073.png',\n",
       " 'umm_road_000067.png',\n",
       " 'um_lane_000005.png',\n",
       " 'um_lane_000011.png',\n",
       " 'um_lane_000010.png',\n",
       " 'um_lane_000004.png',\n",
       " 'umm_road_000066.png',\n",
       " 'um_lane_000038.png',\n",
       " 'umm_road_000072.png',\n",
       " 'uu_road_000012.png',\n",
       " 'uu_road_000006.png',\n",
       " 'um_road_000019.png',\n",
       " 'um_road_000025.png',\n",
       " 'um_road_000031.png',\n",
       " 'um_road_000009.png',\n",
       " 'um_road_000035.png',\n",
       " 'um_road_000021.png',\n",
       " 'uu_road_000002.png',\n",
       " 'uu_road_000016.png',\n",
       " 'umm_road_000089.png',\n",
       " 'um_lane_000000.png',\n",
       " 'um_lane_000014.png',\n",
       " 'umm_road_000076.png',\n",
       " 'um_lane_000028.png',\n",
       " 'umm_road_000062.png',\n",
       " 'um_lane_000029.png',\n",
       " 'umm_road_000063.png',\n",
       " 'umm_road_000077.png',\n",
       " 'um_lane_000015.png',\n",
       " 'um_lane_000001.png',\n",
       " 'umm_road_000088.png',\n",
       " 'uu_road_000017.png',\n",
       " 'uu_road_000003.png',\n",
       " 'um_road_000020.png',\n",
       " 'um_road_000034.png',\n",
       " 'um_road_000008.png',\n",
       " 'um_road_000022.png',\n",
       " 'um_road_000036.png',\n",
       " 'uu_road_000015.png',\n",
       " 'uu_road_000001.png',\n",
       " 'uu_road_000029.png',\n",
       " 'um_lane_000017.png',\n",
       " 'um_lane_000003.png',\n",
       " 'umm_road_000049.png',\n",
       " 'umm_road_000061.png',\n",
       " 'umm_road_000075.png',\n",
       " 'umm_road_000074.png',\n",
       " 'umm_road_000060.png',\n",
       " 'um_lane_000002.png',\n",
       " 'umm_road_000048.png',\n",
       " 'um_lane_000016.png',\n",
       " 'uu_road_000028.png',\n",
       " 'uu_road_000000.png',\n",
       " 'uu_road_000014.png',\n",
       " 'um_road_000037.png',\n",
       " 'um_road_000023.png',\n",
       " 'um_road_000006.png',\n",
       " 'um_road_000012.png',\n",
       " 'uu_road_000019.png',\n",
       " 'uu_road_000031.png',\n",
       " 'uu_road_000025.png',\n",
       " 'umm_road_000086.png',\n",
       " 'umm_road_000092.png',\n",
       " 'umm_road_000045.png',\n",
       " 'umm_road_000051.png',\n",
       " 'um_lane_000033.png',\n",
       " 'umm_road_000079.png',\n",
       " 'um_lane_000027.png',\n",
       " 'um_lane_000026.png',\n",
       " 'um_lane_000032.png',\n",
       " 'umm_road_000078.png',\n",
       " 'umm_road_000050.png',\n",
       " 'umm_road_000044.png',\n",
       " 'umm_road_000093.png',\n",
       " 'umm_road_000087.png',\n",
       " 'uu_road_000024.png',\n",
       " 'uu_road_000030.png',\n",
       " 'uu_road_000018.png',\n",
       " 'um_road_000013.png',\n",
       " 'um_road_000007.png',\n",
       " 'um_road_000011.png',\n",
       " 'um_road_000005.png',\n",
       " 'um_road_000039.png',\n",
       " 'uu_road_000026.png',\n",
       " 'uu_road_000032.png',\n",
       " 'umm_road_000091.png',\n",
       " 'umm_road_000085.png',\n",
       " 'um_lane_000018.png',\n",
       " 'umm_road_000052.png',\n",
       " 'umm_road_000046.png',\n",
       " 'um_lane_000024.png',\n",
       " 'um_lane_000030.png',\n",
       " 'um_lane_000031.png',\n",
       " 'um_lane_000025.png',\n",
       " 'umm_road_000047.png',\n",
       " 'um_lane_000019.png',\n",
       " 'umm_road_000053.png',\n",
       " 'umm_road_000084.png',\n",
       " 'umm_road_000090.png',\n",
       " 'uu_road_000033.png',\n",
       " 'uu_road_000027.png',\n",
       " 'um_road_000038.png',\n",
       " 'um_road_000004.png',\n",
       " 'um_road_000010.png',\n",
       " 'um_road_000028.png',\n",
       " 'um_road_000014.png',\n",
       " 'um_road_000000.png',\n",
       " 'uu_road_000023.png',\n",
       " 'uu_road_000037.png',\n",
       " 'umm_road_000094.png',\n",
       " 'umm_road_000080.png',\n",
       " 'um_lane_000021.png',\n",
       " 'um_lane_000035.png',\n",
       " 'umm_road_000057.png',\n",
       " 'um_lane_000009.png',\n",
       " 'umm_road_000043.png',\n",
       " 'um_lane_000008.png',\n",
       " 'umm_road_000042.png',\n",
       " 'umm_road_000056.png',\n",
       " 'um_lane_000034.png',\n",
       " 'um_lane_000020.png',\n",
       " 'umm_road_000081.png',\n",
       " 'umm_road_000095.png',\n",
       " 'uu_road_000036.png',\n",
       " 'uu_road_000022.png',\n",
       " 'um_road_000001.png',\n",
       " 'um_road_000015.png',\n",
       " 'um_road_000029.png',\n",
       " 'um_road_000003.png',\n",
       " 'um_road_000017.png',\n",
       " 'uu_road_000034.png',\n",
       " 'uu_road_000020.png',\n",
       " 'uu_road_000008.png',\n",
       " 'umm_road_000083.png',\n",
       " 'um_lane_000036.png',\n",
       " 'um_lane_000022.png',\n",
       " 'umm_road_000068.png',\n",
       " 'umm_road_000040.png',\n",
       " 'umm_road_000054.png',\n",
       " 'umm_road_000055.png',\n",
       " 'umm_road_000041.png',\n",
       " 'um_lane_000023.png',\n",
       " 'umm_road_000069.png',\n",
       " 'um_lane_000037.png',\n",
       " 'umm_road_000082.png',\n",
       " 'uu_road_000009.png',\n",
       " 'uu_road_000021.png',\n",
       " 'uu_road_000035.png',\n",
       " 'um_road_000016.png',\n",
       " 'um_road_000002.png',\n",
       " 'um_road_000065.png',\n",
       " 'um_road_000071.png',\n",
       " 'um_road_000059.png',\n",
       " 'uu_road_000052.png',\n",
       " 'uu_road_000046.png',\n",
       " 'uu_road_000091.png',\n",
       " 'uu_road_000085.png',\n",
       " 'um_lane_000093.png',\n",
       " 'um_lane_000087.png',\n",
       " 'umm_road_000026.png',\n",
       " 'um_lane_000078.png',\n",
       " 'umm_road_000032.png',\n",
       " 'um_lane_000050.png',\n",
       " 'um_lane_000044.png',\n",
       " 'um_lane_000045.png',\n",
       " 'um_lane_000051.png',\n",
       " 'um_lane_000079.png',\n",
       " 'umm_road_000033.png',\n",
       " 'umm_road_000027.png',\n",
       " 'um_lane_000086.png',\n",
       " 'um_lane_000092.png',\n",
       " 'uu_road_000084.png',\n",
       " 'uu_road_000090.png',\n",
       " 'uu_road_000047.png',\n",
       " 'uu_road_000053.png',\n",
       " 'um_road_000058.png',\n",
       " 'um_road_000070.png',\n",
       " 'um_road_000064.png',\n",
       " 'um_road_000072.png',\n",
       " 'um_road_000066.png',\n",
       " 'uu_road_000079.png',\n",
       " 'uu_road_000045.png',\n",
       " 'uu_road_000051.png',\n",
       " 'uu_road_000086.png',\n",
       " 'uu_road_000092.png',\n",
       " 'um_lane_000084.png',\n",
       " 'um_lane_000090.png',\n",
       " 'umm_road_000031.png',\n",
       " 'umm_road_000025.png',\n",
       " 'um_lane_000047.png',\n",
       " 'um_lane_000053.png',\n",
       " 'umm_road_000019.png',\n",
       " 'um_lane_000052.png',\n",
       " 'umm_road_000018.png',\n",
       " 'um_lane_000046.png',\n",
       " 'umm_road_000024.png',\n",
       " 'umm_road_000030.png',\n",
       " 'um_lane_000091.png',\n",
       " 'um_lane_000085.png',\n",
       " 'uu_road_000093.png',\n",
       " 'uu_road_000087.png',\n",
       " 'uu_road_000050.png',\n",
       " 'uu_road_000044.png',\n",
       " 'uu_road_000078.png',\n",
       " 'um_road_000067.png',\n",
       " 'um_road_000073.png',\n",
       " 'um_road_000088.png',\n",
       " 'um_road_000077.png',\n",
       " 'um_road_000063.png',\n",
       " 'uu_road_000040.png',\n",
       " 'uu_road_000054.png',\n",
       " 'uu_road_000068.png',\n",
       " 'uu_road_000083.png',\n",
       " 'uu_road_000097.png',\n",
       " 'um_lane_000081.png',\n",
       " 'um_lane_000042.png',\n",
       " 'umm_road_000008.png',\n",
       " 'um_lane_000056.png',\n",
       " 'umm_road_000034.png',\n",
       " 'umm_road_000020.png',\n",
       " 'umm_road_000021.png',\n",
       " 'umm_road_000035.png',\n",
       " 'um_lane_000057.png',\n",
       " 'um_lane_000043.png',\n",
       " 'umm_road_000009.png',\n",
       " 'um_lane_000094.png',\n",
       " 'um_lane_000080.png',\n",
       " 'uu_road_000096.png',\n",
       " 'uu_road_000082.png',\n",
       " 'uu_road_000069.png',\n",
       " 'uu_road_000055.png',\n",
       " 'uu_road_000041.png',\n",
       " 'um_road_000062.png',\n",
       " 'um_road_000076.png',\n",
       " 'um_road_000089.png',\n",
       " 'um_road_000048.png',\n",
       " 'um_road_000060.png',\n",
       " 'um_road_000074.png',\n",
       " 'uu_road_000057.png',\n",
       " 'uu_road_000043.png',\n",
       " 'uu_road_000094.png',\n",
       " 'uu_road_000080.png',\n",
       " 'um_lane_000082.png',\n",
       " 'um_lane_000055.png',\n",
       " 'um_lane_000041.png',\n",
       " 'um_lane_000069.png',\n",
       " 'umm_road_000023.png',\n",
       " 'umm_road_000037.png',\n",
       " 'umm_road_000036.png',\n",
       " 'um_lane_000068.png',\n",
       " 'umm_road_000022.png',\n",
       " 'um_lane_000040.png',\n",
       " 'um_lane_000054.png',\n",
       " 'um_lane_000083.png',\n",
       " 'uu_road_000081.png',\n",
       " 'uu_road_000095.png',\n",
       " 'uu_road_000042.png',\n",
       " 'uu_road_000056.png',\n",
       " 'um_road_000075.png',\n",
       " 'um_road_000061.png',\n",
       " 'um_road_000049.png']"
      ]
     },
     "execution_count": 3,
     "metadata": {},
     "output_type": "execute_result"
    }
   ],
   "source": [
    "gt_images = 'data/data_road/training/gt_image_2'\n",
    "os.listdir(gt_images)"
   ]
  },
  {
   "cell_type": "code",
   "execution_count": 4,
   "metadata": {
    "collapsed": true
   },
   "outputs": [],
   "source": [
    "gt_images = glob(gt_images + '/*.png')\n"
   ]
  },
  {
   "cell_type": "code",
   "execution_count": 5,
   "metadata": {},
   "outputs": [
    {
     "data": {
      "text/plain": [
       "(370, 1226, 3)"
      ]
     },
     "execution_count": 5,
     "metadata": {},
     "output_type": "execute_result"
    },
    {
     "data": {
      "text/plain": [
       "<matplotlib.image.AxesImage at 0x11b590048>"
      ]
     },
     "execution_count": 5,
     "metadata": {},
     "output_type": "execute_result"
    },
    {
     "data": {
      "image/png": "[encoded data removed]",
      "text/plain": [
       "<matplotlib.figure.Figure at 0x10b639550>"
      ]
     },
     "metadata": {},
     "output_type": "display_data"
    }
   ],
   "source": [
    "img = gt_images[0]\n",
    "img = plt.imread(img)\n",
    "img.shape\n",
    "plt.imshow(img)"
   ]
  },
  {
   "cell_type": "code",
   "execution_count": 6,
   "metadata": {
    "collapsed": true
   },
   "outputs": [],
   "source": [
    "import helper\n",
    "import config\n",
    "\n",
    "data_folder = config.path_train_images"
   ]
  },
  {
   "cell_type": "code",
   "execution_count": 7,
   "metadata": {
    "scrolled": true
   },
   "outputs": [
    {
     "data": {
      "text/plain": [
       "<generator object gen_batch_function.<locals>.get_batches_fn at 0x11af907d8>"
      ]
     },
     "execution_count": 7,
     "metadata": {},
     "output_type": "execute_result"
    },
    {
     "data": {
      "text/plain": [
       "(1, 160, 576, 3)"
      ]
     },
     "execution_count": 7,
     "metadata": {},
     "output_type": "execute_result"
    },
    {
     "data": {
      "text/plain": [
       "(1, 160, 576, 2)"
      ]
     },
     "execution_count": 7,
     "metadata": {},
     "output_type": "execute_result"
    }
   ],
   "source": [
    "get_batches_fn = helper.gen_batch_function(data_folder, (config.image_shape.y, config.image_shape.x))\n",
    "\n",
    "get_batches_fn(1)\n",
    "\n",
    "img, gt = next(get_batches_fn(1))\n",
    "img.shape\n",
    "gt.shape"
   ]
  },
  {
   "cell_type": "code",
   "execution_count": 8,
   "metadata": {},
   "outputs": [
    {
     "data": {
      "text/plain": [
       "(160, 576, 2)"
      ]
     },
     "execution_count": 8,
     "metadata": {},
     "output_type": "execute_result"
    },
    {
     "data": {
      "text/plain": [
       "(92160, 2)"
      ]
     },
     "execution_count": 8,
     "metadata": {},
     "output_type": "execute_result"
    },
    {
     "data": {
      "text/plain": [
       "(160, 576, 2)"
      ]
     },
     "execution_count": 8,
     "metadata": {},
     "output_type": "execute_result"
    },
    {
     "data": {
      "text/plain": [
       "(160, 576)"
      ]
     },
     "execution_count": 8,
     "metadata": {},
     "output_type": "execute_result"
    },
    {
     "data": {
      "text/plain": [
       "<matplotlib.image.AxesImage at 0x11c4516a0>"
      ]
     },
     "execution_count": 8,
     "metadata": {},
     "output_type": "execute_result"
    },
    {
     "data": {
      "image/png": "[encoded data removed]",
      "text/plain": [
       "<matplotlib.figure.Figure at 0x11e4f84a8>"
      ]
     },
     "metadata": {},
     "output_type": "display_data"
    },
    {
     "data": {
      "text/plain": [
       "(92160,)"
      ]
     },
     "execution_count": 8,
     "metadata": {},
     "output_type": "execute_result"
    },
    {
     "data": {
      "text/plain": [
       "(160, 576)"
      ]
     },
     "execution_count": 8,
     "metadata": {},
     "output_type": "execute_result"
    },
    {
     "data": {
      "text/plain": [
       "<matplotlib.image.AxesImage at 0x107f5cba8>"
      ]
     },
     "execution_count": 8,
     "metadata": {},
     "output_type": "execute_result"
    },
    {
     "data": {
      "image/png": "[encoded data removed]",
      "text/plain": [
       "<matplotlib.figure.Figure at 0x11c3d7cf8>"
      ]
     },
     "metadata": {},
     "output_type": "display_data"
    }
   ],
   "source": [
    "gt_00 = gt[0]\n",
    "gt_00.shape\n",
    "\n",
    "gt_01 = gt_00.reshape(-1, 2)\n",
    "gt_01.shape\n",
    "\n",
    "gt_02 = gt_01.reshape(160,576, -1)\n",
    "gt_02.shape\n",
    "\n",
    "gt_03 = gt_02[:,:,1]\n",
    "gt_03.shape\n",
    "\n",
    "plt.imshow(gt_03, cmap='gray'); plt.show()\n",
    "\n",
    "gt_04 = gt_01[:, 1]\n",
    "gt_04.shape\n",
    "\n",
    "gt_05 = gt_04.reshape(160, 576)\n",
    "gt_05.shape\n",
    "\n",
    "plt.imshow(gt_05, cmap='gray'); plt.show()"
   ]
  },
  {
   "cell_type": "code",
   "execution_count": null,
   "metadata": {
    "collapsed": true
   },
   "outputs": [],
   "source": []
  },
  {
   "cell_type": "code",
   "execution_count": null,
   "metadata": {
    "collapsed": true
   },
   "outputs": [],
   "source": []
  },
  {
   "cell_type": "code",
   "execution_count": null,
   "metadata": {
    "collapsed": true
   },
   "outputs": [],
   "source": []
  },
  {
   "cell_type": "code",
   "execution_count": null,
   "metadata": {
    "collapsed": true
   },
   "outputs": [],
   "source": []
  },
  {
   "cell_type": "code",
   "execution_count": null,
   "metadata": {
    "collapsed": true
   },
   "outputs": [],
   "source": []
  },
  {
   "cell_type": "code",
   "execution_count": null,
   "metadata": {
    "collapsed": true
   },
   "outputs": [],
   "source": []
  },
  {
   "cell_type": "code",
   "execution_count": 9,
   "metadata": {},
   "outputs": [
    {
     "data": {
      "text/plain": [
       "<matplotlib.image.AxesImage at 0x11e4f8d30>"
      ]
     },
     "execution_count": 9,
     "metadata": {},
     "output_type": "execute_result"
    },
    {
     "data": {
      "image/png": "[encoded data removed]",
      "text/plain": [
       "<matplotlib.figure.Figure at 0x122424550>"
      ]
     },
     "metadata": {},
     "output_type": "display_data"
    },
    {
     "data": {
      "text/plain": [
       "(160, 576)"
      ]
     },
     "execution_count": 9,
     "metadata": {},
     "output_type": "execute_result"
    },
    {
     "data": {
      "text/plain": [
       "<matplotlib.image.AxesImage at 0x107fd64a8>"
      ]
     },
     "execution_count": 9,
     "metadata": {},
     "output_type": "execute_result"
    },
    {
     "data": {
      "image/png": "[encoded data removed]",
      "text/plain": [
       "<matplotlib.figure.Figure at 0x11c4a4b38>"
      ]
     },
     "metadata": {},
     "output_type": "display_data"
    },
    {
     "data": {
      "text/plain": [
       "(160, 576)"
      ]
     },
     "execution_count": 9,
     "metadata": {},
     "output_type": "execute_result"
    },
    {
     "data": {
      "text/plain": [
       "<matplotlib.image.AxesImage at 0x1225f2dd8>"
      ]
     },
     "execution_count": 9,
     "metadata": {},
     "output_type": "execute_result"
    },
    {
     "data": {
      "image/png": "[encoded data removed]",
      "text/plain": [
       "<matplotlib.figure.Figure at 0x107fb4198>"
      ]
     },
     "metadata": {},
     "output_type": "display_data"
    },
    {
     "data": {
      "text/plain": [
       "(92160, 2)"
      ]
     },
     "execution_count": 9,
     "metadata": {},
     "output_type": "execute_result"
    },
    {
     "data": {
      "text/plain": [
       "(160, 576, 2)"
      ]
     },
     "execution_count": 9,
     "metadata": {},
     "output_type": "execute_result"
    },
    {
     "data": {
      "text/plain": [
       "<matplotlib.image.AxesImage at 0x1226f89b0>"
      ]
     },
     "execution_count": 9,
     "metadata": {},
     "output_type": "execute_result"
    },
    {
     "data": {
      "image/png": "[encoded data removed]",
      "text/plain": [
       "<matplotlib.figure.Figure at 0x122625b70>"
      ]
     },
     "metadata": {},
     "output_type": "display_data"
    }
   ],
   "source": [
    "plt.imshow(img[0]); plt.show()\n",
    "\n",
    "gt1 = gt[0][:,:,1]\n",
    "gt1.shape\n",
    "plt.imshow(gt1, cmap='gray'); plt.show()\n",
    "\n",
    "gt0 = gt[0][:,:,0]\n",
    "gt0.shape\n",
    "plt.imshow(gt0, cmap='gray'); plt.show()\n",
    "\n",
    "gt_reshape = gt[0].reshape(-1, 2)\n",
    "gt_reshape.shape\n",
    "\n",
    "gt_undo = gt_reshape.reshape(config.image_shape.y, config.image_shape.x, -2)\n",
    "gt_undo.shape\n",
    "gt_undo1 = gt_undo[:,:, 1]\n",
    "plt.imshow(gt_undo1, cmap='gray'); plt.show()"
   ]
  },
  {
   "cell_type": "code",
   "execution_count": 10,
   "metadata": {},
   "outputs": [
    {
     "data": {
      "text/plain": [
       "['project_tests.py',\n",
       " '.DS_Store',\n",
       " 'config.py',\n",
       " '__pycache__',\n",
       " 'test.py',\n",
       " 'foo.ipynb',\n",
       " 'README.md',\n",
       " 'img',\n",
       " '.gitignore',\n",
       " 'sandbox',\n",
       " 'tensorboard',\n",
       " 'model',\n",
       " 'helper.py',\n",
       " 'movie.py',\n",
       " '.ipynb_checkpoints',\n",
       " '.git',\n",
       " 'main.py',\n",
       " 'data',\n",
       " 'runs']"
      ]
     },
     "execution_count": 10,
     "metadata": {},
     "output_type": "execute_result"
    }
   ],
   "source": [
    "os.listdir('.')"
   ]
  },
  {
   "cell_type": "code",
   "execution_count": 11,
   "metadata": {},
   "outputs": [
    {
     "data": {
      "text/plain": [
       "['checkpoint',\n",
       " 'epoch_000.data-00000-of-00001',\n",
       " 'model-10epochs.zip',\n",
       " 'epoch_000.index',\n",
       " 'model-10epochs-snoopminer',\n",
       " 'epoch_000.meta']"
      ]
     },
     "execution_count": 11,
     "metadata": {},
     "output_type": "execute_result"
    }
   ],
   "source": [
    "os.listdir('model')"
   ]
  },
  {
   "cell_type": "markdown",
   "metadata": {},
   "source": [
    "```python\n",
    "\n",
    "saver = tf.train.import_meta_graph()\n",
    "saver.restore()\n",
    "\n",
    "tf.Graph()\n",
    "\n",
    "graph_def = tf.GraphDef()\n",
    "\n",
    "tf.import_graph_def()\n",
    "    \n",
    "# assign the graph to `graph`\n",
    "graph = tf.get_default_graph()\n",
    "tf.get_defaut_graph().as_graph_def()\n",
    "    \n",
    "meta_graph_def = tf.saved_model.loader.load(sess, [vgg_tag], vgg_path)\n",
    "\n",
    "image_input = graph.get_tensor_by_name(vgg_input_tensor_name)\n",
    "```"
   ]
  },
  {
   "cell_type": "code",
   "execution_count": 19,
   "metadata": {},
   "outputs": [
    {
     "data": {
      "text/plain": [
       "'model/model-10epochs-snoopminer'"
      ]
     },
     "execution_count": 19,
     "metadata": {},
     "output_type": "execute_result"
    }
   ],
   "source": [
    "tf.reset_default_graph()\n",
    "\n",
    "model_meta_path = 'model/model-10epochs-snoopminer/cpu-trained-mac-epoch-9.meta'\n",
    "model_checkpoint = '/'.join(model_meta_path.split('/')[:-1])\n",
    "model_checkpoint\n",
    "imported_meta = tf.train.import_meta_graph(model_meta_path)"
   ]
  },
  {
   "cell_type": "markdown",
   "metadata": {},
   "source": [
    "The current graph could be explored using the following command ```tf.get_default_graph()```"
   ]
  },
  {
   "cell_type": "code",
   "execution_count": 20,
   "metadata": {
    "scrolled": false
   },
   "outputs": [
    {
     "name": "stdout",
     "output_type": "stream",
     "text": [
      "INFO:tensorflow:Restoring parameters from model/model-10epochs-snoopminer/cpu-trained-mac-epoch-9\n"
     ]
    },
    {
     "ename": "KeyError",
     "evalue": "\"The name 'train_op' refers to an Operation not in the graph.\"",
     "output_type": "error",
     "traceback": [
      "\u001b[0;31m---------------------------------------------------------------------------\u001b[0m",
      "\u001b[0;31mKeyError\u001b[0m                                  Traceback (most recent call last)",
      "\u001b[0;32m<ipython-input-20-165f10916c1d>\u001b[0m in \u001b[0;36m<module>\u001b[0;34m()\u001b[0m\n\u001b[1;32m     10\u001b[0m     \u001b[0mgraph\u001b[0m \u001b[0;34m=\u001b[0m \u001b[0mtf\u001b[0m\u001b[0;34m.\u001b[0m\u001b[0mget_default_graph\u001b[0m\u001b[0;34m(\u001b[0m\u001b[0;34m)\u001b[0m\u001b[0;34m\u001b[0m\u001b[0m\n\u001b[1;32m     11\u001b[0m \u001b[0;34m\u001b[0m\u001b[0m\n\u001b[0;32m---> 12\u001b[0;31m     \u001b[0mtrain_op\u001b[0m \u001b[0;34m=\u001b[0m \u001b[0mgraph\u001b[0m\u001b[0;34m.\u001b[0m\u001b[0mget_operation_by_name\u001b[0m\u001b[0;34m(\u001b[0m\u001b[0;34m'train_op'\u001b[0m\u001b[0;34m)\u001b[0m\u001b[0;34m\u001b[0m\u001b[0m\n\u001b[0m\u001b[1;32m     13\u001b[0m     \u001b[0mimage_input\u001b[0m \u001b[0;34m=\u001b[0m \u001b[0mgraph\u001b[0m\u001b[0;34m.\u001b[0m\u001b[0mget_tensor_by_name\u001b[0m\u001b[0;34m(\u001b[0m\u001b[0;34m'image_input:0'\u001b[0m\u001b[0;34m)\u001b[0m\u001b[0;34m\u001b[0m\u001b[0m\n\u001b[1;32m     14\u001b[0m     \u001b[0mcorrect_label\u001b[0m \u001b[0;34m=\u001b[0m \u001b[0mgraph\u001b[0m\u001b[0;34m.\u001b[0m\u001b[0mget_tensor_by_name\u001b[0m\u001b[0;34m(\u001b[0m\u001b[0;34m'correct_label_holder:0'\u001b[0m\u001b[0;34m)\u001b[0m\u001b[0;34m\u001b[0m\u001b[0m\n",
      "\u001b[0;32m/Users/topher/anaconda/lib/python3.6/site-packages/tensorflow/python/framework/ops.py\u001b[0m in \u001b[0;36mget_operation_by_name\u001b[0;34m(self, name)\u001b[0m\n\u001b[1;32m   2834\u001b[0m       raise TypeError(\"Operation names are strings (or similar), not %s.\"\n\u001b[1;32m   2835\u001b[0m                       % type(name).__name__)\n\u001b[0;32m-> 2836\u001b[0;31m     \u001b[0;32mreturn\u001b[0m \u001b[0mself\u001b[0m\u001b[0;34m.\u001b[0m\u001b[0mas_graph_element\u001b[0m\u001b[0;34m(\u001b[0m\u001b[0mname\u001b[0m\u001b[0;34m,\u001b[0m \u001b[0mallow_tensor\u001b[0m\u001b[0;34m=\u001b[0m\u001b[0;32mFalse\u001b[0m\u001b[0;34m,\u001b[0m \u001b[0mallow_operation\u001b[0m\u001b[0;34m=\u001b[0m\u001b[0;32mTrue\u001b[0m\u001b[0;34m)\u001b[0m\u001b[0;34m\u001b[0m\u001b[0m\n\u001b[0m\u001b[1;32m   2837\u001b[0m \u001b[0;34m\u001b[0m\u001b[0m\n\u001b[1;32m   2838\u001b[0m   \u001b[0;32mdef\u001b[0m \u001b[0m_get_operation_by_name_unsafe\u001b[0m\u001b[0;34m(\u001b[0m\u001b[0mself\u001b[0m\u001b[0;34m,\u001b[0m \u001b[0mname\u001b[0m\u001b[0;34m)\u001b[0m\u001b[0;34m:\u001b[0m\u001b[0;34m\u001b[0m\u001b[0m\n",
      "\u001b[0;32m/Users/topher/anaconda/lib/python3.6/site-packages/tensorflow/python/framework/ops.py\u001b[0m in \u001b[0;36mas_graph_element\u001b[0;34m(self, obj, allow_tensor, allow_operation)\u001b[0m\n\u001b[1;32m   2706\u001b[0m \u001b[0;34m\u001b[0m\u001b[0m\n\u001b[1;32m   2707\u001b[0m     \u001b[0;32mwith\u001b[0m \u001b[0mself\u001b[0m\u001b[0;34m.\u001b[0m\u001b[0m_lock\u001b[0m\u001b[0;34m:\u001b[0m\u001b[0;34m\u001b[0m\u001b[0m\n\u001b[0;32m-> 2708\u001b[0;31m       \u001b[0;32mreturn\u001b[0m \u001b[0mself\u001b[0m\u001b[0;34m.\u001b[0m\u001b[0m_as_graph_element_locked\u001b[0m\u001b[0;34m(\u001b[0m\u001b[0mobj\u001b[0m\u001b[0;34m,\u001b[0m \u001b[0mallow_tensor\u001b[0m\u001b[0;34m,\u001b[0m \u001b[0mallow_operation\u001b[0m\u001b[0;34m)\u001b[0m\u001b[0;34m\u001b[0m\u001b[0m\n\u001b[0m\u001b[1;32m   2709\u001b[0m \u001b[0;34m\u001b[0m\u001b[0m\n\u001b[1;32m   2710\u001b[0m   \u001b[0;32mdef\u001b[0m \u001b[0m_as_graph_element_locked\u001b[0m\u001b[0;34m(\u001b[0m\u001b[0mself\u001b[0m\u001b[0;34m,\u001b[0m \u001b[0mobj\u001b[0m\u001b[0;34m,\u001b[0m \u001b[0mallow_tensor\u001b[0m\u001b[0;34m,\u001b[0m \u001b[0mallow_operation\u001b[0m\u001b[0;34m)\u001b[0m\u001b[0;34m:\u001b[0m\u001b[0;34m\u001b[0m\u001b[0m\n",
      "\u001b[0;32m/Users/topher/anaconda/lib/python3.6/site-packages/tensorflow/python/framework/ops.py\u001b[0m in \u001b[0;36m_as_graph_element_locked\u001b[0;34m(self, obj, allow_tensor, allow_operation)\u001b[0m\n\u001b[1;32m   2766\u001b[0m         \u001b[0;32mif\u001b[0m \u001b[0mname\u001b[0m \u001b[0;32mnot\u001b[0m \u001b[0;32min\u001b[0m \u001b[0mself\u001b[0m\u001b[0;34m.\u001b[0m\u001b[0m_nodes_by_name\u001b[0m\u001b[0;34m:\u001b[0m\u001b[0;34m\u001b[0m\u001b[0m\n\u001b[1;32m   2767\u001b[0m           raise KeyError(\"The name %s refers to an Operation not in the \"\n\u001b[0;32m-> 2768\u001b[0;31m                          \"graph.\" % repr(name))\n\u001b[0m\u001b[1;32m   2769\u001b[0m         \u001b[0;32mreturn\u001b[0m \u001b[0mself\u001b[0m\u001b[0;34m.\u001b[0m\u001b[0m_nodes_by_name\u001b[0m\u001b[0;34m[\u001b[0m\u001b[0mname\u001b[0m\u001b[0;34m]\u001b[0m\u001b[0;34m\u001b[0m\u001b[0m\n\u001b[1;32m   2770\u001b[0m \u001b[0;34m\u001b[0m\u001b[0m\n",
      "\u001b[0;31mKeyError\u001b[0m: \"The name 'train_op' refers to an Operation not in the graph.\""
     ]
    }
   ],
   "source": [
    "img, gt = next(get_batches_fn(1))\n",
    "\n",
    "with tf.Session() as sess:\n",
    "    # Restore the varialbes\n",
    "    # The variables to restore do not have to have been initialized, \n",
    "    # as restoring is itself a way to initialize variables.\n",
    "    imported_meta.restore(sess, tf.train.latest_checkpoint(model_checkpoint))\n",
    "    \n",
    "    # Now that we restored the graph (above), we need a handle to it like so:\n",
    "    graph = tf.get_default_graph()\n",
    "    \n",
    "    train_op = graph.get_operation_by_name('train_op')\n",
    "    image_input = graph.get_tensor_by_name('image_input:0')\n",
    "    correct_label = graph.get_tensor_by_name('correct_label_holder:0')\n",
    "    keep_prob = graph.get_tensor_by_name('keep_prob:0')\n",
    "    logits = graph.get_tensor_by_name('logits:0')\n",
    "    \n",
    "#     sess.run(train_op, feed_dict={image_input: img,\n",
    "#                                   correct_label: gt,\n",
    "#                                   keep_prob: 1.0})\n",
    "    \n",
    "    im_softmax = sess.run(\n",
    "        [tf.nn.softmax(logits)],\n",
    "        {keep_prob: 1.0, \n",
    "         image_input: img,\n",
    "           correct_label: gt\n",
    "        })\n",
    "    \n",
    "#     print(dir(logits))\n",
    "#     print(logits.eval({image_input: img,\n",
    "#                        keep_prob: 1.0,\n",
    "#                        correct_label: gt}))\n",
    "\n",
    "    print(im_softmax)\n",
    "    print(image_input.get_shape())"
   ]
  },
  {
   "cell_type": "code",
   "execution_count": 65,
   "metadata": {},
   "outputs": [
    {
     "data": {
      "text/plain": [
       "(160, 576)"
      ]
     },
     "execution_count": 65,
     "metadata": {},
     "output_type": "execute_result"
    },
    {
     "data": {
      "text/plain": [
       "<matplotlib.image.AxesImage at 0x13bb55e10>"
      ]
     },
     "execution_count": 65,
     "metadata": {},
     "output_type": "execute_result"
    },
    {
     "data": {
      "image/png": "[encoded data removed]",
      "text/plain": [
       "<matplotlib.figure.Figure at 0x137a1b6a0>"
      ]
     },
     "metadata": {},
     "output_type": "display_data"
    },
    {
     "data": {
      "text/plain": [
       "<matplotlib.image.AxesImage at 0x101954a20>"
      ]
     },
     "execution_count": 65,
     "metadata": {},
     "output_type": "execute_result"
    },
    {
     "data": {
      "image/png": "[encoded data removed]",
      "text/plain": [
       "<matplotlib.figure.Figure at 0x11ba4ae80>"
      ]
     },
     "metadata": {},
     "output_type": "display_data"
    }
   ],
   "source": [
    "im_softmax_00 = im_softmax[0].reshape(160,576)\n",
    "im_softmax_00.shape\n",
    "\n",
    "plt.imshow(img[0]); plt.show()\n",
    "plt.imshow(im_softmax_00, cmap='gray')"
   ]
  },
  {
   "cell_type": "code",
   "execution_count": 14,
   "metadata": {
    "collapsed": true
   },
   "outputs": [],
   "source": [
    "# make sure you have a handle to the Graph object that is imported\n",
    "tf.summary.FileWriter(\"tensorboard\", graph).close()"
   ]
  },
  {
   "cell_type": "code",
   "execution_count": 26,
   "metadata": {},
   "outputs": [
    {
     "data": {
      "text/plain": [
       "<tf.Tensor 'keep_prob:0' shape=<unknown> dtype=float32>"
      ]
     },
     "execution_count": 26,
     "metadata": {},
     "output_type": "execute_result"
    },
    {
     "data": {
      "text/plain": [
       "['_InputList',\n",
       " '__class__',\n",
       " '__delattr__',\n",
       " '__dict__',\n",
       " '__dir__',\n",
       " '__doc__',\n",
       " '__eq__',\n",
       " '__format__',\n",
       " '__ge__',\n",
       " '__getattribute__',\n",
       " '__gt__',\n",
       " '__hash__',\n",
       " '__init__',\n",
       " '__init_subclass__',\n",
       " '__le__',\n",
       " '__lt__',\n",
       " '__module__',\n",
       " '__ne__',\n",
       " '__new__',\n",
       " '__reduce__',\n",
       " '__reduce_ex__',\n",
       " '__repr__',\n",
       " '__setattr__',\n",
       " '__sizeof__',\n",
       " '__str__',\n",
       " '__subclasshook__',\n",
       " '__weakref__',\n",
       " '_add_control_input',\n",
       " '_add_control_inputs',\n",
       " '_add_input',\n",
       " '_c_op',\n",
       " '_control_flow_context',\n",
       " '_control_inputs',\n",
       " '_create_c_op',\n",
       " '_get_control_flow_context',\n",
       " '_graph',\n",
       " '_id',\n",
       " '_id_value',\n",
       " '_input_dtypes',\n",
       " '_input_types',\n",
       " '_input_types_val',\n",
       " '_inputs',\n",
       " '_node_def',\n",
       " '_op_def',\n",
       " '_original_op',\n",
       " '_output_types',\n",
       " '_output_types_val',\n",
       " '_outputs',\n",
       " '_recompute_node_def',\n",
       " '_reconstruct_sequence_inputs',\n",
       " '_set_control_flow_context',\n",
       " '_set_device',\n",
       " '_tf_input',\n",
       " '_tf_output',\n",
       " '_traceback',\n",
       " '_update_input',\n",
       " 'colocation_groups',\n",
       " 'control_inputs',\n",
       " 'device',\n",
       " 'get_attr',\n",
       " 'graph',\n",
       " 'inputs',\n",
       " 'name',\n",
       " 'node_def',\n",
       " 'op_def',\n",
       " 'outputs',\n",
       " 'run',\n",
       " 'traceback',\n",
       " 'traceback_with_start_lines',\n",
       " 'type',\n",
       " 'values']"
      ]
     },
     "execution_count": 26,
     "metadata": {},
     "output_type": "execute_result"
    },
    {
     "data": {
      "text/plain": [
       "name: \"NoOp\""
      ]
     },
     "execution_count": 26,
     "metadata": {},
     "output_type": "execute_result"
    }
   ],
   "source": [
    "keep_prob = graph.get_tensor_by_name('keep_prob:0')\n",
    "keep_prob\n",
    "train_op = graph.get_operation_by_name('train_op')\n",
    "dir(train_op)\n",
    "train_op.op_def"
   ]
  },
  {
   "cell_type": "code",
   "execution_count": 33,
   "metadata": {
    "scrolled": false
   },
   "outputs": [
    {
     "name": "stdout",
     "output_type": "stream",
     "text": [
      "logits\n",
      "gradients/logits_grad/ExpandDims/dim\n",
      "gradients/logits_grad/ExpandDims\n",
      "gradients/logits_grad/mul\n"
     ]
    }
   ],
   "source": [
    "for n in graph.as_graph_def().node:\n",
    "    if 'logits' in n.name:\n",
    "        print(n.name)"
   ]
  },
  {
   "cell_type": "code",
   "execution_count": 21,
   "metadata": {
    "collapsed": true,
    "scrolled": false
   },
   "outputs": [],
   "source": [
    "for op in graph.get_operations():\n",
    "    if 'output_layer' in op.name:\n",
    "        print(op.name)"
   ]
  },
  {
   "cell_type": "code",
   "execution_count": null,
   "metadata": {
    "collapsed": true
   },
   "outputs": [],
   "source": []
  }
 ],
 "metadata": {
  "kernelspec": {
   "display_name": "Python 3",
   "language": "python",
   "name": "python3"
  },
  "language_info": {
   "codemirror_mode": {
    "name": "ipython",
    "version": 3
   },
   "file_extension": ".py",
   "mimetype": "text/x-python",
   "name": "python",
   "nbconvert_exporter": "python",
   "pygments_lexer": "ipython3",
   "version": "3.6.1"
  }
 },
 "nbformat": 4,
 "nbformat_minor": 2
}
